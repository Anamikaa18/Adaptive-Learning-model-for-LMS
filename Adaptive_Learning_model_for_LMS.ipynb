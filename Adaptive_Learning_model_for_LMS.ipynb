{
  "nbformat": 4,
  "nbformat_minor": 0,
  "metadata": {
    "colab": {
      "provenance": [],
      "authorship_tag": "ABX9TyMLOYx/1DluwkBH6fnkMle8",
      "include_colab_link": true
    },
    "kernelspec": {
      "name": "python3",
      "display_name": "Python 3"
    },
    "language_info": {
      "name": "python"
    }
  },
  "cells": [
    {
      "cell_type": "markdown",
      "metadata": {
        "id": "view-in-github",
        "colab_type": "text"
      },
      "source": [
        "<a href=\"https://colab.research.google.com/github/Anamikaa18/Adaptive-Learning-model-for-LMS/blob/main/Adaptive_Learning_model_for_LMS.ipynb\" target=\"_parent\"><img src=\"https://colab.research.google.com/assets/colab-badge.svg\" alt=\"Open In Colab\"/></a>"
      ]
    },
    {
      "cell_type": "code",
      "execution_count": 1,
      "metadata": {
        "colab": {
          "base_uri": "https://localhost:8080/"
        },
        "id": "ktCZgxL8m6SF",
        "outputId": "1bbdac54-e803-49ba-c266-c3c2e8fcc9c9"
      },
      "outputs": [
        {
          "output_type": "stream",
          "name": "stdout",
          "text": [
            "Downloading from https://www.kaggle.com/api/v1/datasets/download/aljarah/xAPI-Edu-Data?dataset_version_number=6...\n"
          ]
        },
        {
          "output_type": "stream",
          "name": "stderr",
          "text": [
            "100%|██████████| 5.54k/5.54k [00:00<00:00, 8.28MB/s]"
          ]
        },
        {
          "output_type": "stream",
          "name": "stdout",
          "text": [
            "Extracting files...\n",
            "Path to dataset files: /root/.cache/kagglehub/datasets/aljarah/xAPI-Edu-Data/versions/6\n"
          ]
        },
        {
          "output_type": "stream",
          "name": "stderr",
          "text": [
            "\n"
          ]
        }
      ],
      "source": [
        "import kagglehub\n",
        "\n",
        "# Download latest version\n",
        "path = kagglehub.dataset_download(\"aljarah/xAPI-Edu-Data\")\n",
        "\n",
        "print(\"Path to dataset files:\", path)\n"
      ]
    },
    {
      "cell_type": "code",
      "source": [
        "import pandas as pd\n",
        "\n",
        "df = pd.read_csv(f\"{path}/xAPI-Edu-Data.csv\")  # Adjust filename if needed\n",
        "print(df.head())\n",
        "print(df.info())\n",
        "print(df.describe())\n"
      ],
      "metadata": {
        "colab": {
          "base_uri": "https://localhost:8080/"
        },
        "id": "rD655pZrozBq",
        "outputId": "b47e682f-92b5-41eb-a615-7e461df3c050"
      },
      "execution_count": 3,
      "outputs": [
        {
          "output_type": "stream",
          "name": "stdout",
          "text": [
            "  gender NationalITy PlaceofBirth     StageID GradeID SectionID Topic  \\\n",
            "0      M          KW       KuwaIT  lowerlevel    G-04         A    IT   \n",
            "1      M          KW       KuwaIT  lowerlevel    G-04         A    IT   \n",
            "2      M          KW       KuwaIT  lowerlevel    G-04         A    IT   \n",
            "3      M          KW       KuwaIT  lowerlevel    G-04         A    IT   \n",
            "4      M          KW       KuwaIT  lowerlevel    G-04         A    IT   \n",
            "\n",
            "  Semester Relation  raisedhands  VisITedResources  AnnouncementsView  \\\n",
            "0        F   Father           15                16                  2   \n",
            "1        F   Father           20                20                  3   \n",
            "2        F   Father           10                 7                  0   \n",
            "3        F   Father           30                25                  5   \n",
            "4        F   Father           40                50                 12   \n",
            "\n",
            "   Discussion ParentAnsweringSurvey ParentschoolSatisfaction  \\\n",
            "0          20                   Yes                     Good   \n",
            "1          25                   Yes                     Good   \n",
            "2          30                    No                      Bad   \n",
            "3          35                    No                      Bad   \n",
            "4          50                    No                      Bad   \n",
            "\n",
            "  StudentAbsenceDays Class  \n",
            "0            Under-7     M  \n",
            "1            Under-7     M  \n",
            "2            Above-7     L  \n",
            "3            Above-7     L  \n",
            "4            Above-7     M  \n",
            "<class 'pandas.core.frame.DataFrame'>\n",
            "RangeIndex: 480 entries, 0 to 479\n",
            "Data columns (total 17 columns):\n",
            " #   Column                    Non-Null Count  Dtype \n",
            "---  ------                    --------------  ----- \n",
            " 0   gender                    480 non-null    object\n",
            " 1   NationalITy               480 non-null    object\n",
            " 2   PlaceofBirth              480 non-null    object\n",
            " 3   StageID                   480 non-null    object\n",
            " 4   GradeID                   480 non-null    object\n",
            " 5   SectionID                 480 non-null    object\n",
            " 6   Topic                     480 non-null    object\n",
            " 7   Semester                  480 non-null    object\n",
            " 8   Relation                  480 non-null    object\n",
            " 9   raisedhands               480 non-null    int64 \n",
            " 10  VisITedResources          480 non-null    int64 \n",
            " 11  AnnouncementsView         480 non-null    int64 \n",
            " 12  Discussion                480 non-null    int64 \n",
            " 13  ParentAnsweringSurvey     480 non-null    object\n",
            " 14  ParentschoolSatisfaction  480 non-null    object\n",
            " 15  StudentAbsenceDays        480 non-null    object\n",
            " 16  Class                     480 non-null    object\n",
            "dtypes: int64(4), object(13)\n",
            "memory usage: 63.9+ KB\n",
            "None\n",
            "       raisedhands  VisITedResources  AnnouncementsView  Discussion\n",
            "count   480.000000        480.000000         480.000000  480.000000\n",
            "mean     46.775000         54.797917          37.918750   43.283333\n",
            "std      30.779223         33.080007          26.611244   27.637735\n",
            "min       0.000000          0.000000           0.000000    1.000000\n",
            "25%      15.750000         20.000000          14.000000   20.000000\n",
            "50%      50.000000         65.000000          33.000000   39.000000\n",
            "75%      75.000000         84.000000          58.000000   70.000000\n",
            "max     100.000000         99.000000          98.000000   99.000000\n"
          ]
        }
      ]
    },
    {
      "cell_type": "code",
      "source": [
        "from sklearn.preprocessing import LabelEncoder\n",
        "\n",
        "label_encoders = {}\n",
        "for col in df.select_dtypes(include=['object']).columns:\n",
        "    Le = LabelEncoder()\n",
        "    df[col] = Le.fit_transform(df[col])\n",
        "    label_encoders[col] = Le"
      ],
      "metadata": {
        "id": "rBTVA1TWo9GO"
      },
      "execution_count": 4,
      "outputs": []
    },
    {
      "cell_type": "code",
      "source": [
        "from sklearn.model_selection import train_test_split\n",
        "from sklearn.ensemble import RandomForestClassifier\n",
        "from sklearn.metrics import classification_report\n",
        "\n",
        "X = df.drop('Class', axis=1)\n",
        "y = df['Class']\n",
        "\n",
        "X_train, X_test, y_train, y_test = train_test_split(X, y, test_size=0.2, random_state=42)\n",
        "\n",
        "clf = RandomForestClassifier()\n",
        "clf.fit(X_train, y_train)\n",
        "y_pred = clf.predict(X_test)\n",
        "\n",
        "print(classification_report(y_test, y_pred))\n"
      ],
      "metadata": {
        "colab": {
          "base_uri": "https://localhost:8080/"
        },
        "id": "BMQVt6MNptAG",
        "outputId": "fa32da46-515a-44d3-d627-54788b29c787"
      },
      "execution_count": 5,
      "outputs": [
        {
          "output_type": "stream",
          "name": "stdout",
          "text": [
            "              precision    recall  f1-score   support\n",
            "\n",
            "           0       0.84      0.73      0.78        22\n",
            "           1       0.89      0.92      0.91        26\n",
            "           2       0.84      0.88      0.86        48\n",
            "\n",
            "    accuracy                           0.85        96\n",
            "   macro avg       0.86      0.84      0.85        96\n",
            "weighted avg       0.85      0.85      0.85        96\n",
            "\n"
          ]
        }
      ]
    },
    {
      "cell_type": "code",
      "source": [
        "def recommend_content(predicted_class):\n",
        "    if predicted_class == 'Low':\n",
        "        return \"Basic tutorials and repeat quizzes\"\n",
        "    elif predicted_class == 'Medium':\n",
        "        return \"Targeted practice sessions\"\n",
        "    else:\n",
        "        return \"Advanced material and research articles\"\n"
      ],
      "metadata": {
        "id": "obpK5VOsp4Rg"
      },
      "execution_count": 7,
      "outputs": []
    }
  ]
}